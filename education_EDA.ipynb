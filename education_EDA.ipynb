{
    "nbformat_minor": 1, 
    "cells": [
        {
            "execution_count": 1, 
            "cell_type": "code", 
            "metadata": {}, 
            "outputs": [], 
            "source": "import pandas as pd\nimport numpy as np\nimport matplotlib.pyplot as plt\nimport seaborn as sns\n%matplotlib inline"
        }, 
        {
            "execution_count": 14, 
            "cell_type": "code", 
            "metadata": {}, 
            "outputs": [
                {
                    "execution_count": 14, 
                    "metadata": {}, 
                    "data": {
                        "text/html": "<div>\n<style scoped>\n    .dataframe tbody tr th:only-of-type {\n        vertical-align: middle;\n    }\n\n    .dataframe tbody tr th {\n        vertical-align: top;\n    }\n\n    .dataframe thead th {\n        text-align: right;\n    }\n</style>\n<table border=\"1\" class=\"dataframe\">\n  <thead>\n    <tr style=\"text-align: right;\">\n      <th></th>\n      <th>UNITID</th>\n      <th>EFALEVEL</th>\n      <th>LINE</th>\n      <th>SECTION</th>\n      <th>LSTUDY</th>\n      <th>XEFTOTLT</th>\n      <th>EFTOTLT</th>\n      <th>XEFTOTLM</th>\n      <th>EFTOTLM</th>\n      <th>XEFTOTLW</th>\n      <th>...</th>\n      <th>XEFUNKNM</th>\n      <th>EFUNKNM</th>\n      <th>XEFUNKNW</th>\n      <th>EFUNKNW</th>\n      <th>XEFNRALT</th>\n      <th>EFNRALT</th>\n      <th>XEFNRALM</th>\n      <th>EFNRALM</th>\n      <th>XEFNRALW</th>\n      <th>EFNRALW</th>\n    </tr>\n  </thead>\n  <tbody>\n    <tr>\n      <th>0</th>\n      <td>100654</td>\n      <td>1</td>\n      <td>29</td>\n      <td>3</td>\n      <td>4</td>\n      <td>R</td>\n      <td>6001</td>\n      <td>R</td>\n      <td>2429</td>\n      <td>R</td>\n      <td>...</td>\n      <td>R</td>\n      <td>65</td>\n      <td>R</td>\n      <td>124</td>\n      <td>R</td>\n      <td>72</td>\n      <td>R</td>\n      <td>38</td>\n      <td>R</td>\n      <td>34</td>\n    </tr>\n    <tr>\n      <th>1</th>\n      <td>100654</td>\n      <td>2</td>\n      <td>99</td>\n      <td>3</td>\n      <td>1</td>\n      <td>R</td>\n      <td>5038</td>\n      <td>R</td>\n      <td>2134</td>\n      <td>R</td>\n      <td>...</td>\n      <td>R</td>\n      <td>62</td>\n      <td>R</td>\n      <td>115</td>\n      <td>R</td>\n      <td>45</td>\n      <td>R</td>\n      <td>23</td>\n      <td>R</td>\n      <td>22</td>\n    </tr>\n    <tr>\n      <th>2</th>\n      <td>100654</td>\n      <td>3</td>\n      <td>99</td>\n      <td>3</td>\n      <td>1</td>\n      <td>R</td>\n      <td>4824</td>\n      <td>R</td>\n      <td>2038</td>\n      <td>R</td>\n      <td>...</td>\n      <td>R</td>\n      <td>54</td>\n      <td>R</td>\n      <td>106</td>\n      <td>R</td>\n      <td>43</td>\n      <td>R</td>\n      <td>22</td>\n      <td>R</td>\n      <td>21</td>\n    </tr>\n    <tr>\n      <th>3</th>\n      <td>100654</td>\n      <td>4</td>\n      <td>99</td>\n      <td>3</td>\n      <td>1</td>\n      <td>R</td>\n      <td>1294</td>\n      <td>R</td>\n      <td>518</td>\n      <td>R</td>\n      <td>...</td>\n      <td>R</td>\n      <td>22</td>\n      <td>R</td>\n      <td>46</td>\n      <td>R</td>\n      <td>9</td>\n      <td>R</td>\n      <td>3</td>\n      <td>R</td>\n      <td>6</td>\n    </tr>\n    <tr>\n      <th>4</th>\n      <td>100654</td>\n      <td>5</td>\n      <td>99</td>\n      <td>3</td>\n      <td>1</td>\n      <td>R</td>\n      <td>3530</td>\n      <td>R</td>\n      <td>1520</td>\n      <td>R</td>\n      <td>...</td>\n      <td>R</td>\n      <td>32</td>\n      <td>R</td>\n      <td>60</td>\n      <td>R</td>\n      <td>34</td>\n      <td>R</td>\n      <td>19</td>\n      <td>R</td>\n      <td>15</td>\n    </tr>\n  </tbody>\n</table>\n<p>5 rows \u00d7 65 columns</p>\n</div>", 
                        "text/plain": "   UNITID  EFALEVEL  LINE  SECTION  LSTUDY XEFTOTLT  EFTOTLT XEFTOTLM  \\\n0  100654         1    29        3       4        R     6001        R   \n1  100654         2    99        3       1        R     5038        R   \n2  100654         3    99        3       1        R     4824        R   \n3  100654         4    99        3       1        R     1294        R   \n4  100654         5    99        3       1        R     3530        R   \n\n   EFTOTLM XEFTOTLW  ...  XEFUNKNM EFUNKNM  XEFUNKNW EFUNKNW  XEFNRALT  \\\n0     2429        R  ...         R      65         R     124         R   \n1     2134        R  ...         R      62         R     115         R   \n2     2038        R  ...         R      54         R     106         R   \n3      518        R  ...         R      22         R      46         R   \n4     1520        R  ...         R      32         R      60         R   \n\n  EFNRALT  XEFNRALM EFNRALM  XEFNRALW EFNRALW   \n0      72         R      38         R       34  \n1      45         R      23         R       22  \n2      43         R      22         R       21  \n3       9         R       3         R        6  \n4      34         R      19         R       15  \n\n[5 rows x 65 columns]"
                    }, 
                    "output_type": "execute_result"
                }
            ], 
            "source": "# The code was removed by Watson Studio for sharing."
        }, 
        {
            "execution_count": 15, 
            "cell_type": "code", 
            "metadata": {}, 
            "outputs": [
                {
                    "execution_count": 15, 
                    "metadata": {}, 
                    "data": {
                        "text/plain": "(127757, 65)"
                    }, 
                    "output_type": "execute_result"
                }
            ], 
            "source": "df.shape"
        }, 
        {
            "execution_count": 16, 
            "cell_type": "code", 
            "metadata": {}, 
            "outputs": [
                {
                    "execution_count": 16, 
                    "metadata": {}, 
                    "data": {
                        "text/html": "<div>\n<style scoped>\n    .dataframe tbody tr th:only-of-type {\n        vertical-align: middle;\n    }\n\n    .dataframe tbody tr th {\n        vertical-align: top;\n    }\n\n    .dataframe thead th {\n        text-align: right;\n    }\n</style>\n<table border=\"1\" class=\"dataframe\">\n  <thead>\n    <tr style=\"text-align: right;\">\n      <th></th>\n      <th>UNITID</th>\n      <th>EFCSTATE</th>\n      <th>LINE</th>\n      <th>XEFRES01</th>\n      <th>EFRES01</th>\n      <th>XEFRES02</th>\n      <th>EFRES02</th>\n    </tr>\n  </thead>\n  <tbody>\n    <tr>\n      <th>0</th>\n      <td>100654</td>\n      <td>1</td>\n      <td>1</td>\n      <td>R</td>\n      <td>667</td>\n      <td>R</td>\n      <td>524.0</td>\n    </tr>\n    <tr>\n      <th>1</th>\n      <td>100654</td>\n      <td>5</td>\n      <td>5</td>\n      <td>R</td>\n      <td>7</td>\n      <td>R</td>\n      <td>6.0</td>\n    </tr>\n    <tr>\n      <th>2</th>\n      <td>100654</td>\n      <td>6</td>\n      <td>6</td>\n      <td>R</td>\n      <td>22</td>\n      <td>R</td>\n      <td>16.0</td>\n    </tr>\n    <tr>\n      <th>3</th>\n      <td>100654</td>\n      <td>8</td>\n      <td>8</td>\n      <td>R</td>\n      <td>4</td>\n      <td>R</td>\n      <td>3.0</td>\n    </tr>\n    <tr>\n      <th>4</th>\n      <td>100654</td>\n      <td>10</td>\n      <td>10</td>\n      <td>R</td>\n      <td>1</td>\n      <td>R</td>\n      <td>0.0</td>\n    </tr>\n  </tbody>\n</table>\n</div>", 
                        "text/plain": "   UNITID  EFCSTATE  LINE XEFRES01  EFRES01 XEFRES02  EFRES02 \n0  100654         1     1        R      667        R     524.0\n1  100654         5     5        R        7        R       6.0\n2  100654         6     6        R       22        R      16.0\n3  100654         8     8        R        4        R       3.0\n4  100654        10    10        R        1        R       0.0"
                    }, 
                    "output_type": "execute_result"
                }
            ], 
            "source": "# Upload third dataset\nbody = client_e0b0de43d3ed41a0a4d24ada8415e71d.get_object(Bucket='education-donotdelete-pr-lmdk4yjz3pwv2v',Key='ef2017c.csv')['Body']\n# add missing __iter__ method, so pandas accepts body as file-like object\nif not hasattr(body, \"__iter__\"): body.__iter__ = types.MethodType( __iter__, body )\n\ndf1 = pd.read_csv(body)\ndf1.head()\n"
        }, 
        {
            "execution_count": 17, 
            "cell_type": "code", 
            "metadata": {}, 
            "outputs": [
                {
                    "execution_count": 17, 
                    "metadata": {}, 
                    "data": {
                        "text/plain": "(39500, 7)"
                    }, 
                    "output_type": "execute_result"
                }
            ], 
            "source": "df1.shape"
        }, 
        {
            "execution_count": 18, 
            "cell_type": "code", 
            "metadata": {}, 
            "outputs": [
                {
                    "execution_count": 18, 
                    "metadata": {}, 
                    "data": {
                        "text/html": "<div>\n<style scoped>\n    .dataframe tbody tr th:only-of-type {\n        vertical-align: middle;\n    }\n\n    .dataframe tbody tr th {\n        vertical-align: top;\n    }\n\n    .dataframe thead th {\n        text-align: right;\n    }\n</style>\n<table border=\"1\" class=\"dataframe\">\n  <thead>\n    <tr style=\"text-align: right;\">\n      <th></th>\n      <th>UNITID</th>\n      <th>EFCSTATE</th>\n      <th>EFRES02</th>\n    </tr>\n  </thead>\n  <tbody>\n    <tr>\n      <th>0</th>\n      <td>100654</td>\n      <td>1</td>\n      <td>524.0</td>\n    </tr>\n    <tr>\n      <th>1</th>\n      <td>100654</td>\n      <td>5</td>\n      <td>6.0</td>\n    </tr>\n    <tr>\n      <th>2</th>\n      <td>100654</td>\n      <td>6</td>\n      <td>16.0</td>\n    </tr>\n    <tr>\n      <th>3</th>\n      <td>100654</td>\n      <td>8</td>\n      <td>3.0</td>\n    </tr>\n    <tr>\n      <th>4</th>\n      <td>100654</td>\n      <td>10</td>\n      <td>0.0</td>\n    </tr>\n  </tbody>\n</table>\n</div>", 
                        "text/plain": "   UNITID  EFCSTATE  EFRES02 \n0  100654         1     524.0\n1  100654         5       6.0\n2  100654         6      16.0\n3  100654         8       3.0\n4  100654        10       0.0"
                    }, 
                    "output_type": "execute_result"
                }
            ], 
            "source": "df1 = df1.drop(['LINE', 'XEFRES01', 'EFRES01', 'XEFRES02'], axis=1)\ndf1.head()"
        }, 
        {
            "execution_count": 19, 
            "cell_type": "code", 
            "metadata": {}, 
            "outputs": [
                {
                    "execution_count": 19, 
                    "metadata": {}, 
                    "data": {
                        "text/html": "<div>\n<style scoped>\n    .dataframe tbody tr th:only-of-type {\n        vertical-align: middle;\n    }\n\n    .dataframe tbody tr th {\n        vertical-align: top;\n    }\n\n    .dataframe thead th {\n        text-align: right;\n    }\n</style>\n<table border=\"1\" class=\"dataframe\">\n  <thead>\n    <tr style=\"text-align: right;\">\n      <th></th>\n      <th>code</th>\n      <th>value</th>\n    </tr>\n  </thead>\n  <tbody>\n    <tr>\n      <th>0</th>\n      <td>1</td>\n      <td>Alabama</td>\n    </tr>\n    <tr>\n      <th>1</th>\n      <td>2</td>\n      <td>Alaska</td>\n    </tr>\n    <tr>\n      <th>2</th>\n      <td>4</td>\n      <td>Arizona</td>\n    </tr>\n    <tr>\n      <th>3</th>\n      <td>5</td>\n      <td>Arkansas</td>\n    </tr>\n    <tr>\n      <th>4</th>\n      <td>6</td>\n      <td>California</td>\n    </tr>\n  </tbody>\n</table>\n</div>", 
                        "text/plain": "   code       value\n0     1     Alabama\n1     2      Alaska\n2     4     Arizona\n3     5    Arkansas\n4     6  California"
                    }, 
                    "output_type": "execute_result"
                }
            ], 
            "source": "\nbody = client_e0b0de43d3ed41a0a4d24ada8415e71d.get_object(Bucket='education-donotdelete-pr-lmdk4yjz3pwv2v',Key='state_mapping.csv')['Body']\n# add missing __iter__ method, so pandas accepts body as file-like object\nif not hasattr(body, \"__iter__\"): body.__iter__ = types.MethodType( __iter__, body )\n\nstate_df = pd.read_csv(body)\nstate_df.rename\nstate_df.head()\n"
        }, 
        {
            "execution_count": 20, 
            "cell_type": "code", 
            "metadata": {}, 
            "outputs": [
                {
                    "execution_count": 20, 
                    "metadata": {}, 
                    "data": {
                        "text/html": "<div>\n<style scoped>\n    .dataframe tbody tr th:only-of-type {\n        vertical-align: middle;\n    }\n\n    .dataframe tbody tr th {\n        vertical-align: top;\n    }\n\n    .dataframe thead th {\n        text-align: right;\n    }\n</style>\n<table border=\"1\" class=\"dataframe\">\n  <thead>\n    <tr style=\"text-align: right;\">\n      <th></th>\n      <th>UNITID</th>\n      <th>EFCSTATE</th>\n      <th>EFRES02</th>\n      <th>code</th>\n      <th>value</th>\n    </tr>\n  </thead>\n  <tbody>\n    <tr>\n      <th>0</th>\n      <td>100654</td>\n      <td>1</td>\n      <td>524.0</td>\n      <td>1.0</td>\n      <td>Alabama</td>\n    </tr>\n    <tr>\n      <th>1</th>\n      <td>100654</td>\n      <td>5</td>\n      <td>6.0</td>\n      <td>5.0</td>\n      <td>Arkansas</td>\n    </tr>\n    <tr>\n      <th>2</th>\n      <td>100654</td>\n      <td>6</td>\n      <td>16.0</td>\n      <td>6.0</td>\n      <td>California</td>\n    </tr>\n    <tr>\n      <th>3</th>\n      <td>100654</td>\n      <td>8</td>\n      <td>3.0</td>\n      <td>8.0</td>\n      <td>Colorado</td>\n    </tr>\n    <tr>\n      <th>4</th>\n      <td>100654</td>\n      <td>10</td>\n      <td>0.0</td>\n      <td>10.0</td>\n      <td>Delaware</td>\n    </tr>\n  </tbody>\n</table>\n</div>", 
                        "text/plain": "   UNITID  EFCSTATE  EFRES02   code       value\n0  100654         1     524.0   1.0     Alabama\n1  100654         5       6.0   5.0    Arkansas\n2  100654         6      16.0   6.0  California\n3  100654         8       3.0   8.0    Colorado\n4  100654        10       0.0  10.0    Delaware"
                    }, 
                    "output_type": "execute_result"
                }
            ], 
            "source": "# Merge df3 with state_df\nnew_df1 = df1.merge(state_df, left_on='EFCSTATE', right_on='code', how='left')\nnew_df1.head()"
        }, 
        {
            "execution_count": 21, 
            "cell_type": "code", 
            "metadata": {}, 
            "outputs": [
                {
                    "execution_count": 21, 
                    "metadata": {}, 
                    "data": {
                        "text/plain": "(39500, 5)"
                    }, 
                    "output_type": "execute_result"
                }
            ], 
            "source": "new_df1.shape"
        }, 
        {
            "execution_count": 23, 
            "cell_type": "code", 
            "metadata": {}, 
            "outputs": [
                {
                    "execution_count": 23, 
                    "metadata": {}, 
                    "data": {
                        "text/html": "<div>\n<style scoped>\n    .dataframe tbody tr th:only-of-type {\n        vertical-align: middle;\n    }\n\n    .dataframe tbody tr th {\n        vertical-align: top;\n    }\n\n    .dataframe thead th {\n        text-align: right;\n    }\n</style>\n<table border=\"1\" class=\"dataframe\">\n  <thead>\n    <tr style=\"text-align: right;\">\n      <th></th>\n      <th>UNITID</th>\n      <th>EFALEVEL</th>\n      <th>LINE</th>\n      <th>SECTION</th>\n      <th>LSTUDY</th>\n      <th>XEFTOTLT</th>\n      <th>EFTOTLT</th>\n      <th>XEFTOTLM</th>\n      <th>EFTOTLM</th>\n      <th>XEFTOTLW</th>\n      <th>...</th>\n      <th>XEFNRALT</th>\n      <th>EFNRALT</th>\n      <th>XEFNRALM</th>\n      <th>EFNRALM</th>\n      <th>XEFNRALW</th>\n      <th>EFNRALW</th>\n      <th>EFCSTATE</th>\n      <th>EFRES02</th>\n      <th>code</th>\n      <th>value</th>\n    </tr>\n  </thead>\n  <tbody>\n    <tr>\n      <th>0</th>\n      <td>100654</td>\n      <td>1</td>\n      <td>29</td>\n      <td>3</td>\n      <td>4</td>\n      <td>R</td>\n      <td>6001</td>\n      <td>R</td>\n      <td>2429</td>\n      <td>R</td>\n      <td>...</td>\n      <td>R</td>\n      <td>72</td>\n      <td>R</td>\n      <td>38</td>\n      <td>R</td>\n      <td>34</td>\n      <td>1</td>\n      <td>524.0</td>\n      <td>1.0</td>\n      <td>Alabama</td>\n    </tr>\n    <tr>\n      <th>1</th>\n      <td>100654</td>\n      <td>1</td>\n      <td>29</td>\n      <td>3</td>\n      <td>4</td>\n      <td>R</td>\n      <td>6001</td>\n      <td>R</td>\n      <td>2429</td>\n      <td>R</td>\n      <td>...</td>\n      <td>R</td>\n      <td>72</td>\n      <td>R</td>\n      <td>38</td>\n      <td>R</td>\n      <td>34</td>\n      <td>5</td>\n      <td>6.0</td>\n      <td>5.0</td>\n      <td>Arkansas</td>\n    </tr>\n    <tr>\n      <th>2</th>\n      <td>100654</td>\n      <td>1</td>\n      <td>29</td>\n      <td>3</td>\n      <td>4</td>\n      <td>R</td>\n      <td>6001</td>\n      <td>R</td>\n      <td>2429</td>\n      <td>R</td>\n      <td>...</td>\n      <td>R</td>\n      <td>72</td>\n      <td>R</td>\n      <td>38</td>\n      <td>R</td>\n      <td>34</td>\n      <td>6</td>\n      <td>16.0</td>\n      <td>6.0</td>\n      <td>California</td>\n    </tr>\n    <tr>\n      <th>3</th>\n      <td>100654</td>\n      <td>1</td>\n      <td>29</td>\n      <td>3</td>\n      <td>4</td>\n      <td>R</td>\n      <td>6001</td>\n      <td>R</td>\n      <td>2429</td>\n      <td>R</td>\n      <td>...</td>\n      <td>R</td>\n      <td>72</td>\n      <td>R</td>\n      <td>38</td>\n      <td>R</td>\n      <td>34</td>\n      <td>8</td>\n      <td>3.0</td>\n      <td>8.0</td>\n      <td>Colorado</td>\n    </tr>\n    <tr>\n      <th>4</th>\n      <td>100654</td>\n      <td>1</td>\n      <td>29</td>\n      <td>3</td>\n      <td>4</td>\n      <td>R</td>\n      <td>6001</td>\n      <td>R</td>\n      <td>2429</td>\n      <td>R</td>\n      <td>...</td>\n      <td>R</td>\n      <td>72</td>\n      <td>R</td>\n      <td>38</td>\n      <td>R</td>\n      <td>34</td>\n      <td>10</td>\n      <td>0.0</td>\n      <td>10.0</td>\n      <td>Delaware</td>\n    </tr>\n  </tbody>\n</table>\n<p>5 rows \u00d7 69 columns</p>\n</div>", 
                        "text/plain": "   UNITID  EFALEVEL  LINE  SECTION  LSTUDY XEFTOTLT  EFTOTLT XEFTOTLM  \\\n0  100654         1    29        3       4        R     6001        R   \n1  100654         1    29        3       4        R     6001        R   \n2  100654         1    29        3       4        R     6001        R   \n3  100654         1    29        3       4        R     6001        R   \n4  100654         1    29        3       4        R     6001        R   \n\n   EFTOTLM XEFTOTLW  ...  XEFNRALT EFNRALT  XEFNRALM EFNRALM  XEFNRALW  \\\n0     2429        R  ...         R      72         R      38         R   \n1     2429        R  ...         R      72         R      38         R   \n2     2429        R  ...         R      72         R      38         R   \n3     2429        R  ...         R      72         R      38         R   \n4     2429        R  ...         R      72         R      38         R   \n\n  EFNRALW   EFCSTATE EFRES02   code       value  \n0       34         1    524.0   1.0     Alabama  \n1       34         5      6.0   5.0    Arkansas  \n2       34         6     16.0   6.0  California  \n3       34         8      3.0   8.0    Colorado  \n4       34        10      0.0  10.0    Delaware  \n\n[5 rows x 69 columns]"
                    }, 
                    "output_type": "execute_result"
                }
            ], 
            "source": "# Merge df1 and df2\ndf_merge = df.merge(new_df1, on='UNITID')\ndf_merge.head()"
        }, 
        {
            "execution_count": 24, 
            "cell_type": "code", 
            "metadata": {}, 
            "outputs": [
                {
                    "execution_count": 24, 
                    "metadata": {}, 
                    "data": {
                        "text/html": "<div>\n<style scoped>\n    .dataframe tbody tr th:only-of-type {\n        vertical-align: middle;\n    }\n\n    .dataframe tbody tr th {\n        vertical-align: top;\n    }\n\n    .dataframe thead th {\n        text-align: right;\n    }\n</style>\n<table border=\"1\" class=\"dataframe\">\n  <thead>\n    <tr style=\"text-align: right;\">\n      <th></th>\n      <th>UNITID</th>\n      <th>EFALEVEL</th>\n      <th>LINE</th>\n      <th>SECTION</th>\n      <th>LSTUDY</th>\n      <th>XEFTOTLT</th>\n      <th>EFTOTLT</th>\n      <th>XEFTOTLM</th>\n      <th>EFTOTLM</th>\n      <th>XEFTOTLW</th>\n      <th>...</th>\n      <th>XEFNRALT</th>\n      <th>EFNRALT</th>\n      <th>XEFNRALM</th>\n      <th>EFNRALM</th>\n      <th>XEFNRALW</th>\n      <th>EFNRALW</th>\n      <th>EFCSTATE</th>\n      <th>EFRES02</th>\n      <th>code</th>\n      <th>value</th>\n    </tr>\n  </thead>\n  <tbody>\n    <tr>\n      <th>976087</th>\n      <td>491181</td>\n      <td>59</td>\n      <td>16</td>\n      <td>2</td>\n      <td>1</td>\n      <td>R</td>\n      <td>33</td>\n      <td>R</td>\n      <td>6</td>\n      <td>R</td>\n      <td>...</td>\n      <td>Z</td>\n      <td>0</td>\n      <td>Z</td>\n      <td>0</td>\n      <td>Z</td>\n      <td>0</td>\n      <td>99</td>\n      <td>0.0</td>\n      <td>NaN</td>\n      <td>NaN</td>\n    </tr>\n    <tr>\n      <th>976088</th>\n      <td>491181</td>\n      <td>60</td>\n      <td>17</td>\n      <td>2</td>\n      <td>1</td>\n      <td>R</td>\n      <td>8</td>\n      <td>R</td>\n      <td>2</td>\n      <td>R</td>\n      <td>...</td>\n      <td>Z</td>\n      <td>0</td>\n      <td>Z</td>\n      <td>0</td>\n      <td>Z</td>\n      <td>0</td>\n      <td>21</td>\n      <td>0.0</td>\n      <td>21.0</td>\n      <td>Kentucky</td>\n    </tr>\n    <tr>\n      <th>976089</th>\n      <td>491181</td>\n      <td>60</td>\n      <td>17</td>\n      <td>2</td>\n      <td>1</td>\n      <td>R</td>\n      <td>8</td>\n      <td>R</td>\n      <td>2</td>\n      <td>R</td>\n      <td>...</td>\n      <td>Z</td>\n      <td>0</td>\n      <td>Z</td>\n      <td>0</td>\n      <td>Z</td>\n      <td>0</td>\n      <td>54</td>\n      <td>0.0</td>\n      <td>54.0</td>\n      <td>West Virginia</td>\n    </tr>\n    <tr>\n      <th>976090</th>\n      <td>491181</td>\n      <td>60</td>\n      <td>17</td>\n      <td>2</td>\n      <td>1</td>\n      <td>R</td>\n      <td>8</td>\n      <td>R</td>\n      <td>2</td>\n      <td>R</td>\n      <td>...</td>\n      <td>Z</td>\n      <td>0</td>\n      <td>Z</td>\n      <td>0</td>\n      <td>Z</td>\n      <td>0</td>\n      <td>58</td>\n      <td>0.0</td>\n      <td>NaN</td>\n      <td>NaN</td>\n    </tr>\n    <tr>\n      <th>976091</th>\n      <td>491181</td>\n      <td>60</td>\n      <td>17</td>\n      <td>2</td>\n      <td>1</td>\n      <td>R</td>\n      <td>8</td>\n      <td>R</td>\n      <td>2</td>\n      <td>R</td>\n      <td>...</td>\n      <td>Z</td>\n      <td>0</td>\n      <td>Z</td>\n      <td>0</td>\n      <td>Z</td>\n      <td>0</td>\n      <td>99</td>\n      <td>0.0</td>\n      <td>NaN</td>\n      <td>NaN</td>\n    </tr>\n  </tbody>\n</table>\n<p>5 rows \u00d7 69 columns</p>\n</div>", 
                        "text/plain": "        UNITID  EFALEVEL  LINE  SECTION  LSTUDY XEFTOTLT  EFTOTLT XEFTOTLM  \\\n976087  491181        59    16        2       1        R       33        R   \n976088  491181        60    17        2       1        R        8        R   \n976089  491181        60    17        2       1        R        8        R   \n976090  491181        60    17        2       1        R        8        R   \n976091  491181        60    17        2       1        R        8        R   \n\n        EFTOTLM XEFTOTLW  ...  XEFNRALT EFNRALT  XEFNRALM EFNRALM  XEFNRALW  \\\n976087        6        R  ...         Z       0         Z       0         Z   \n976088        2        R  ...         Z       0         Z       0         Z   \n976089        2        R  ...         Z       0         Z       0         Z   \n976090        2        R  ...         Z       0         Z       0         Z   \n976091        2        R  ...         Z       0         Z       0         Z   \n\n       EFNRALW   EFCSTATE EFRES02   code          value  \n976087        0        99      0.0   NaN            NaN  \n976088        0        21      0.0  21.0       Kentucky  \n976089        0        54      0.0  54.0  West Virginia  \n976090        0        58      0.0   NaN            NaN  \n976091        0        99      0.0   NaN            NaN  \n\n[5 rows x 69 columns]"
                    }, 
                    "output_type": "execute_result"
                }
            ], 
            "source": "df_merge.tail()"
        }, 
        {
            "execution_count": 25, 
            "cell_type": "code", 
            "metadata": {}, 
            "outputs": [
                {
                    "execution_count": 25, 
                    "metadata": {}, 
                    "data": {
                        "text/plain": "(976092, 69)"
                    }, 
                    "output_type": "execute_result"
                }
            ], 
            "source": "# should have 86 features\ndf_merge.shape"
        }, 
        {
            "execution_count": null, 
            "cell_type": "code", 
            "metadata": {}, 
            "outputs": [], 
            "source": ""
        }
    ], 
    "metadata": {
        "kernelspec": {
            "display_name": "Python 3.6", 
            "name": "python3", 
            "language": "python"
        }, 
        "language_info": {
            "mimetype": "text/x-python", 
            "nbconvert_exporter": "python", 
            "version": "3.6.8", 
            "name": "python", 
            "file_extension": ".py", 
            "pygments_lexer": "ipython3", 
            "codemirror_mode": {
                "version": 3, 
                "name": "ipython"
            }
        }
    }, 
    "nbformat": 4
}