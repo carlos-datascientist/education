{
    "nbformat_minor": 1, 
    "cells": [
        {
            "source": "# Post-secondary education analysis\n\nAnalysis goal: Examine post-secondary analysis across the US for the year 2017.\n\nThis data contains the number of students enrolled in the fall, by race/ethnicity, gender, attendance (full- or part-time) status and level of student.  Institutions with traditional academic year calendar systems (semester, quarter, trimester or  4-1-4) report their enrollment as of October 15 or the official fall reporting date of the institution for 2017. Institutions with calendar systems that differ by program or allow continuous enrollment report students that are enrolled at any time between August 1 and October 31. This data has multiple records per institution.  Records are uniquely defined by the variables IPEDS ID (ID), and the attendance status and level of student (EFALEVEL). Each instance will contain the total enrollment, enrollment for men and women, and the total enrollment and enrollment for men and women for all nine race/ethnicity categories. \n\nSource: www.data.gov\n\nAuthor: Carlos Caballero\nData Scientist", 
            "cell_type": "markdown", 
            "metadata": {}
        }, 
        {
            "execution_count": 42, 
            "cell_type": "code", 
            "metadata": {}, 
            "outputs": [], 
            "source": "import pandas as pd\nimport numpy as np\nimport matplotlib.pyplot as plt\nimport seaborn as sns\n%matplotlib inline"
        }, 
        {
            "execution_count": 43, 
            "cell_type": "code", 
            "metadata": {}, 
            "outputs": [
                {
                    "execution_count": 43, 
                    "metadata": {}, 
                    "data": {
                        "text/html": "<div>\n<style scoped>\n    .dataframe tbody tr th:only-of-type {\n        vertical-align: middle;\n    }\n\n    .dataframe tbody tr th {\n        vertical-align: top;\n    }\n\n    .dataframe thead th {\n        text-align: right;\n    }\n</style>\n<table border=\"1\" class=\"dataframe\">\n  <thead>\n    <tr style=\"text-align: right;\">\n      <th></th>\n      <th>UNITID</th>\n      <th>EFALEVEL</th>\n      <th>LINE</th>\n      <th>SECTION</th>\n      <th>LSTUDY</th>\n      <th>XEFTOTLT</th>\n      <th>EFTOTLT</th>\n      <th>XEFTOTLM</th>\n      <th>EFTOTLM</th>\n      <th>XEFTOTLW</th>\n      <th>...</th>\n      <th>XEFUNKNM</th>\n      <th>EFUNKNM</th>\n      <th>XEFUNKNW</th>\n      <th>EFUNKNW</th>\n      <th>XEFNRALT</th>\n      <th>EFNRALT</th>\n      <th>XEFNRALM</th>\n      <th>EFNRALM</th>\n      <th>XEFNRALW</th>\n      <th>EFNRALW</th>\n    </tr>\n  </thead>\n  <tbody>\n    <tr>\n      <th>0</th>\n      <td>100654</td>\n      <td>1</td>\n      <td>29</td>\n      <td>3</td>\n      <td>4</td>\n      <td>R</td>\n      <td>6001</td>\n      <td>R</td>\n      <td>2429</td>\n      <td>R</td>\n      <td>...</td>\n      <td>R</td>\n      <td>65</td>\n      <td>R</td>\n      <td>124</td>\n      <td>R</td>\n      <td>72</td>\n      <td>R</td>\n      <td>38</td>\n      <td>R</td>\n      <td>34</td>\n    </tr>\n    <tr>\n      <th>1</th>\n      <td>100654</td>\n      <td>2</td>\n      <td>99</td>\n      <td>3</td>\n      <td>1</td>\n      <td>R</td>\n      <td>5038</td>\n      <td>R</td>\n      <td>2134</td>\n      <td>R</td>\n      <td>...</td>\n      <td>R</td>\n      <td>62</td>\n      <td>R</td>\n      <td>115</td>\n      <td>R</td>\n      <td>45</td>\n      <td>R</td>\n      <td>23</td>\n      <td>R</td>\n      <td>22</td>\n    </tr>\n    <tr>\n      <th>2</th>\n      <td>100654</td>\n      <td>3</td>\n      <td>99</td>\n      <td>3</td>\n      <td>1</td>\n      <td>R</td>\n      <td>4824</td>\n      <td>R</td>\n      <td>2038</td>\n      <td>R</td>\n      <td>...</td>\n      <td>R</td>\n      <td>54</td>\n      <td>R</td>\n      <td>106</td>\n      <td>R</td>\n      <td>43</td>\n      <td>R</td>\n      <td>22</td>\n      <td>R</td>\n      <td>21</td>\n    </tr>\n    <tr>\n      <th>3</th>\n      <td>100654</td>\n      <td>4</td>\n      <td>99</td>\n      <td>3</td>\n      <td>1</td>\n      <td>R</td>\n      <td>1294</td>\n      <td>R</td>\n      <td>518</td>\n      <td>R</td>\n      <td>...</td>\n      <td>R</td>\n      <td>22</td>\n      <td>R</td>\n      <td>46</td>\n      <td>R</td>\n      <td>9</td>\n      <td>R</td>\n      <td>3</td>\n      <td>R</td>\n      <td>6</td>\n    </tr>\n    <tr>\n      <th>4</th>\n      <td>100654</td>\n      <td>5</td>\n      <td>99</td>\n      <td>3</td>\n      <td>1</td>\n      <td>R</td>\n      <td>3530</td>\n      <td>R</td>\n      <td>1520</td>\n      <td>R</td>\n      <td>...</td>\n      <td>R</td>\n      <td>32</td>\n      <td>R</td>\n      <td>60</td>\n      <td>R</td>\n      <td>34</td>\n      <td>R</td>\n      <td>19</td>\n      <td>R</td>\n      <td>15</td>\n    </tr>\n  </tbody>\n</table>\n<p>5 rows \u00d7 65 columns</p>\n</div>", 
                        "text/plain": "   UNITID  EFALEVEL  LINE  SECTION  LSTUDY XEFTOTLT  EFTOTLT XEFTOTLM  \\\n0  100654         1    29        3       4        R     6001        R   \n1  100654         2    99        3       1        R     5038        R   \n2  100654         3    99        3       1        R     4824        R   \n3  100654         4    99        3       1        R     1294        R   \n4  100654         5    99        3       1        R     3530        R   \n\n   EFTOTLM XEFTOTLW  ...  XEFUNKNM EFUNKNM  XEFUNKNW EFUNKNW  XEFNRALT  \\\n0     2429        R  ...         R      65         R     124         R   \n1     2134        R  ...         R      62         R     115         R   \n2     2038        R  ...         R      54         R     106         R   \n3      518        R  ...         R      22         R      46         R   \n4     1520        R  ...         R      32         R      60         R   \n\n  EFNRALT  XEFNRALM EFNRALM  XEFNRALW EFNRALW   \n0      72         R      38         R       34  \n1      45         R      23         R       22  \n2      43         R      22         R       21  \n3       9         R       3         R        6  \n4      34         R      19         R       15  \n\n[5 rows x 65 columns]"
                    }, 
                    "output_type": "execute_result"
                }
            ], 
            "source": "# The code was removed by Watson Studio for sharing."
        }, 
        {
            "execution_count": 44, 
            "cell_type": "code", 
            "metadata": {}, 
            "outputs": [
                {
                    "execution_count": 44, 
                    "metadata": {}, 
                    "data": {
                        "text/plain": "Index(['UNITID', 'EFALEVEL', 'LINE', 'SECTION', 'LSTUDY', 'XEFTOTLT',\n       'EFTOTLT', 'XEFTOTLM', 'EFTOTLM', 'XEFTOTLW', 'EFTOTLW', 'XEFAIANT',\n       'EFAIANT', 'XEFAIANM', 'EFAIANM', 'XEFAIANW', 'EFAIANW', 'XEFASIAT',\n       'EFASIAT', 'XEFASIAM', 'EFASIAM', 'XEFASIAW', 'EFASIAW', 'XEFBKAAT',\n       'EFBKAAT', 'XEFBKAAM', 'EFBKAAM', 'XEFBKAAW', 'EFBKAAW', 'XEFHISPT',\n       'EFHISPT', 'XEFHISPM', 'EFHISPM', 'XEFHISPW', 'EFHISPW', 'XEFNHPIT',\n       'EFNHPIT', 'XEFNHPIM', 'EFNHPIM', 'XEFNHPIW', 'EFNHPIW', 'XEFWHITT',\n       'EFWHITT', 'XEFWHITM', 'EFWHITM', 'XEFWHITW', 'EFWHITW', 'XEF2MORT',\n       'EF2MORT', 'XEF2MORM', 'EF2MORM', 'XEF2MORW', 'EF2MORW', 'XEFUNKNT',\n       'EFUNKNT', 'XEFUNKNM', 'EFUNKNM', 'XEFUNKNW', 'EFUNKNW', 'XEFNRALT',\n       'EFNRALT', 'XEFNRALM', 'EFNRALM', 'XEFNRALW', 'EFNRALW '],\n      dtype='object')"
                    }, 
                    "output_type": "execute_result"
                }
            ], 
            "source": "df.columns"
        }, 
        {
            "execution_count": 45, 
            "cell_type": "code", 
            "metadata": {}, 
            "outputs": [
                {
                    "execution_count": 45, 
                    "metadata": {}, 
                    "data": {
                        "text/plain": "(127757, 65)"
                    }, 
                    "output_type": "execute_result"
                }
            ], 
            "source": "df.shape"
        }, 
        {
            "execution_count": 46, 
            "cell_type": "code", 
            "metadata": {}, 
            "outputs": [
                {
                    "execution_count": 46, 
                    "metadata": {}, 
                    "data": {
                        "text/html": "<div>\n<style scoped>\n    .dataframe tbody tr th:only-of-type {\n        vertical-align: middle;\n    }\n\n    .dataframe tbody tr th {\n        vertical-align: top;\n    }\n\n    .dataframe thead th {\n        text-align: right;\n    }\n</style>\n<table border=\"1\" class=\"dataframe\">\n  <thead>\n    <tr style=\"text-align: right;\">\n      <th></th>\n      <th>UNITID</th>\n      <th>EFALEVEL</th>\n      <th>SECTION</th>\n      <th>LSTUDY</th>\n      <th>EFTOTLT</th>\n      <th>EFTOTLM</th>\n      <th>EFTOTLW</th>\n      <th>EFAIANT</th>\n      <th>EFAIANM</th>\n      <th>EFAIANW</th>\n      <th>...</th>\n      <th>EFWHITW</th>\n      <th>EF2MORT</th>\n      <th>EF2MORM</th>\n      <th>EF2MORW</th>\n      <th>EFUNKNT</th>\n      <th>EFUNKNM</th>\n      <th>EFUNKNW</th>\n      <th>EFNRALT</th>\n      <th>EFNRALM</th>\n      <th>EFNRALW</th>\n    </tr>\n  </thead>\n  <tbody>\n    <tr>\n      <th>0</th>\n      <td>100654</td>\n      <td>1</td>\n      <td>3</td>\n      <td>4</td>\n      <td>6001</td>\n      <td>2429</td>\n      <td>3572</td>\n      <td>12</td>\n      <td>2</td>\n      <td>10</td>\n      <td>...</td>\n      <td>128</td>\n      <td>57</td>\n      <td>19</td>\n      <td>38</td>\n      <td>189</td>\n      <td>65</td>\n      <td>124</td>\n      <td>72</td>\n      <td>38</td>\n      <td>34</td>\n    </tr>\n    <tr>\n      <th>1</th>\n      <td>100654</td>\n      <td>2</td>\n      <td>3</td>\n      <td>1</td>\n      <td>5038</td>\n      <td>2134</td>\n      <td>2904</td>\n      <td>10</td>\n      <td>1</td>\n      <td>9</td>\n      <td>...</td>\n      <td>47</td>\n      <td>54</td>\n      <td>19</td>\n      <td>35</td>\n      <td>177</td>\n      <td>62</td>\n      <td>115</td>\n      <td>45</td>\n      <td>23</td>\n      <td>22</td>\n    </tr>\n    <tr>\n      <th>2</th>\n      <td>100654</td>\n      <td>3</td>\n      <td>3</td>\n      <td>1</td>\n      <td>4824</td>\n      <td>2038</td>\n      <td>2786</td>\n      <td>10</td>\n      <td>1</td>\n      <td>9</td>\n      <td>...</td>\n      <td>43</td>\n      <td>50</td>\n      <td>18</td>\n      <td>32</td>\n      <td>160</td>\n      <td>54</td>\n      <td>106</td>\n      <td>43</td>\n      <td>22</td>\n      <td>21</td>\n    </tr>\n    <tr>\n      <th>3</th>\n      <td>100654</td>\n      <td>4</td>\n      <td>3</td>\n      <td>1</td>\n      <td>1294</td>\n      <td>518</td>\n      <td>776</td>\n      <td>2</td>\n      <td>0</td>\n      <td>2</td>\n      <td>...</td>\n      <td>6</td>\n      <td>14</td>\n      <td>4</td>\n      <td>10</td>\n      <td>68</td>\n      <td>22</td>\n      <td>46</td>\n      <td>9</td>\n      <td>3</td>\n      <td>6</td>\n    </tr>\n    <tr>\n      <th>4</th>\n      <td>100654</td>\n      <td>5</td>\n      <td>3</td>\n      <td>1</td>\n      <td>3530</td>\n      <td>1520</td>\n      <td>2010</td>\n      <td>8</td>\n      <td>1</td>\n      <td>7</td>\n      <td>...</td>\n      <td>37</td>\n      <td>36</td>\n      <td>14</td>\n      <td>22</td>\n      <td>92</td>\n      <td>32</td>\n      <td>60</td>\n      <td>34</td>\n      <td>19</td>\n      <td>15</td>\n    </tr>\n  </tbody>\n</table>\n<p>5 rows \u00d7 34 columns</p>\n</div>", 
                        "text/plain": "   UNITID  EFALEVEL  SECTION  LSTUDY  EFTOTLT  EFTOTLM  EFTOTLW  EFAIANT  \\\n0  100654         1        3       4     6001     2429     3572       12   \n1  100654         2        3       1     5038     2134     2904       10   \n2  100654         3        3       1     4824     2038     2786       10   \n3  100654         4        3       1     1294      518      776        2   \n4  100654         5        3       1     3530     1520     2010        8   \n\n   EFAIANM  EFAIANW  ...  EFWHITW  EF2MORT  EF2MORM  EF2MORW  EFUNKNT  \\\n0        2       10  ...      128       57       19       38      189   \n1        1        9  ...       47       54       19       35      177   \n2        1        9  ...       43       50       18       32      160   \n3        0        2  ...        6       14        4       10       68   \n4        1        7  ...       37       36       14       22       92   \n\n   EFUNKNM  EFUNKNW  EFNRALT  EFNRALM  EFNRALW   \n0       65      124       72       38        34  \n1       62      115       45       23        22  \n2       54      106       43       22        21  \n3       22       46        9        3         6  \n4       32       60       34       19        15  \n\n[5 rows x 34 columns]"
                    }, 
                    "output_type": "execute_result"
                }
            ], 
            "source": "df = df.drop(df.columns[[2,5,7,9,11,13,15,17,19,21,23,25,27,29,31,33,35,37,39,41,43,45,47,49,51,53,55,57,59,61,63]], axis=1)\ndf.head()"
        }, 
        {
            "execution_count": 47, 
            "cell_type": "code", 
            "metadata": {}, 
            "outputs": [
                {
                    "execution_count": 47, 
                    "metadata": {}, 
                    "data": {
                        "text/plain": "(127757, 34)"
                    }, 
                    "output_type": "execute_result"
                }
            ], 
            "source": "df.shape"
        }, 
        {
            "execution_count": 48, 
            "cell_type": "code", 
            "metadata": {}, 
            "outputs": [], 
            "source": "df.rename(columns={'UNITID': 'ID', \"EFALEVEL\":'STUDENT_LEVEL','SECTION':'ATTEND_STATUS','LSSTUDY':'STUDENT_LEVEL1','EFTOTLT':'GRAND_TOTAL',\n                  'EFTOTLM':'GRAND_TOTAL_MEN','EFTOTLW':'GRAND_TOTAL_WOMEN','EFNRALT':'NONRESIDENT_ALIEN_TOTAL','EFNRALM':'NONRESIDENT_MEN',\n                  'EFNRALM':'NONRESDIENT_MEN','EFNRALW':'NONRESIDENT_WOMEN'},inplace=True)"
        }, 
        {
            "execution_count": 49, 
            "cell_type": "code", 
            "metadata": {}, 
            "outputs": [
                {
                    "execution_count": 49, 
                    "metadata": {}, 
                    "data": {
                        "text/html": "<div>\n<style scoped>\n    .dataframe tbody tr th:only-of-type {\n        vertical-align: middle;\n    }\n\n    .dataframe tbody tr th {\n        vertical-align: top;\n    }\n\n    .dataframe thead th {\n        text-align: right;\n    }\n</style>\n<table border=\"1\" class=\"dataframe\">\n  <thead>\n    <tr style=\"text-align: right;\">\n      <th></th>\n      <th>UNITID</th>\n      <th>EFCSTATE</th>\n      <th>LINE</th>\n      <th>XEFRES01</th>\n      <th>EFRES01</th>\n      <th>XEFRES02</th>\n      <th>EFRES02</th>\n    </tr>\n  </thead>\n  <tbody>\n    <tr>\n      <th>0</th>\n      <td>100654</td>\n      <td>1</td>\n      <td>1</td>\n      <td>R</td>\n      <td>667</td>\n      <td>R</td>\n      <td>524.0</td>\n    </tr>\n    <tr>\n      <th>1</th>\n      <td>100654</td>\n      <td>5</td>\n      <td>5</td>\n      <td>R</td>\n      <td>7</td>\n      <td>R</td>\n      <td>6.0</td>\n    </tr>\n    <tr>\n      <th>2</th>\n      <td>100654</td>\n      <td>6</td>\n      <td>6</td>\n      <td>R</td>\n      <td>22</td>\n      <td>R</td>\n      <td>16.0</td>\n    </tr>\n    <tr>\n      <th>3</th>\n      <td>100654</td>\n      <td>8</td>\n      <td>8</td>\n      <td>R</td>\n      <td>4</td>\n      <td>R</td>\n      <td>3.0</td>\n    </tr>\n    <tr>\n      <th>4</th>\n      <td>100654</td>\n      <td>10</td>\n      <td>10</td>\n      <td>R</td>\n      <td>1</td>\n      <td>R</td>\n      <td>0.0</td>\n    </tr>\n  </tbody>\n</table>\n</div>", 
                        "text/plain": "   UNITID  EFCSTATE  LINE XEFRES01  EFRES01 XEFRES02  EFRES02 \n0  100654         1     1        R      667        R     524.0\n1  100654         5     5        R        7        R       6.0\n2  100654         6     6        R       22        R      16.0\n3  100654         8     8        R        4        R       3.0\n4  100654        10    10        R        1        R       0.0"
                    }, 
                    "output_type": "execute_result"
                }
            ], 
            "source": "# Upload third dataset\nbody = client_e0b0de43d3ed41a0a4d24ada8415e71d.get_object(Bucket='education-donotdelete-pr-lmdk4yjz3pwv2v',Key='ef2017c.csv')['Body']\n# add missing __iter__ method, so pandas accepts body as file-like object\nif not hasattr(body, \"__iter__\"): body.__iter__ = types.MethodType( __iter__, body )\n\ndf1 = pd.read_csv(body)\ndf1.head()\n"
        }, 
        {
            "execution_count": 50, 
            "cell_type": "code", 
            "metadata": {}, 
            "outputs": [
                {
                    "execution_count": 50, 
                    "metadata": {}, 
                    "data": {
                        "text/plain": "(39500, 7)"
                    }, 
                    "output_type": "execute_result"
                }
            ], 
            "source": "df1.shape"
        }, 
        {
            "execution_count": 51, 
            "cell_type": "code", 
            "metadata": {}, 
            "outputs": [
                {
                    "execution_count": 51, 
                    "metadata": {}, 
                    "data": {
                        "text/html": "<div>\n<style scoped>\n    .dataframe tbody tr th:only-of-type {\n        vertical-align: middle;\n    }\n\n    .dataframe tbody tr th {\n        vertical-align: top;\n    }\n\n    .dataframe thead th {\n        text-align: right;\n    }\n</style>\n<table border=\"1\" class=\"dataframe\">\n  <thead>\n    <tr style=\"text-align: right;\">\n      <th></th>\n      <th>UNITID</th>\n      <th>EFCSTATE</th>\n      <th>EFRES01</th>\n      <th>EFRES02</th>\n    </tr>\n  </thead>\n  <tbody>\n    <tr>\n      <th>0</th>\n      <td>100654</td>\n      <td>1</td>\n      <td>667</td>\n      <td>524.0</td>\n    </tr>\n    <tr>\n      <th>1</th>\n      <td>100654</td>\n      <td>5</td>\n      <td>7</td>\n      <td>6.0</td>\n    </tr>\n    <tr>\n      <th>2</th>\n      <td>100654</td>\n      <td>6</td>\n      <td>22</td>\n      <td>16.0</td>\n    </tr>\n    <tr>\n      <th>3</th>\n      <td>100654</td>\n      <td>8</td>\n      <td>4</td>\n      <td>3.0</td>\n    </tr>\n    <tr>\n      <th>4</th>\n      <td>100654</td>\n      <td>10</td>\n      <td>1</td>\n      <td>0.0</td>\n    </tr>\n  </tbody>\n</table>\n</div>", 
                        "text/plain": "   UNITID  EFCSTATE  EFRES01  EFRES02 \n0  100654         1      667     524.0\n1  100654         5        7       6.0\n2  100654         6       22      16.0\n3  100654         8        4       3.0\n4  100654        10        1       0.0"
                    }, 
                    "output_type": "execute_result"
                }
            ], 
            "source": "df1 = df1.drop(['LINE', 'XEFRES01', 'XEFRES02'], axis=1)\ndf1.head()"
        }, 
        {
            "execution_count": 52, 
            "cell_type": "code", 
            "metadata": {}, 
            "outputs": [], 
            "source": "df1.rename(columns={'UNITID':'ID','EFRES01':'1ST_DEG_SEEK_UND','EFRES02':'1ST_DEG_SEEK_UND_HS_12MOS'},inplace=True)"
        }, 
        {
            "execution_count": 53, 
            "cell_type": "code", 
            "metadata": {}, 
            "outputs": [
                {
                    "execution_count": 53, 
                    "metadata": {}, 
                    "data": {
                        "text/html": "<div>\n<style scoped>\n    .dataframe tbody tr th:only-of-type {\n        vertical-align: middle;\n    }\n\n    .dataframe tbody tr th {\n        vertical-align: top;\n    }\n\n    .dataframe thead th {\n        text-align: right;\n    }\n</style>\n<table border=\"1\" class=\"dataframe\">\n  <thead>\n    <tr style=\"text-align: right;\">\n      <th></th>\n      <th>STATE_CODE</th>\n      <th>STATE</th>\n    </tr>\n  </thead>\n  <tbody>\n    <tr>\n      <th>0</th>\n      <td>1</td>\n      <td>Alabama</td>\n    </tr>\n    <tr>\n      <th>1</th>\n      <td>2</td>\n      <td>Alaska</td>\n    </tr>\n    <tr>\n      <th>2</th>\n      <td>4</td>\n      <td>Arizona</td>\n    </tr>\n    <tr>\n      <th>3</th>\n      <td>5</td>\n      <td>Arkansas</td>\n    </tr>\n    <tr>\n      <th>4</th>\n      <td>6</td>\n      <td>California</td>\n    </tr>\n  </tbody>\n</table>\n</div>", 
                        "text/plain": "   STATE_CODE       STATE\n0           1     Alabama\n1           2      Alaska\n2           4     Arizona\n3           5    Arkansas\n4           6  California"
                    }, 
                    "output_type": "execute_result"
                }
            ], 
            "source": "body = client_e0b0de43d3ed41a0a4d24ada8415e71d.get_object(Bucket='education-donotdelete-pr-lmdk4yjz3pwv2v',Key='state_mapping.csv')['Body']\n# add missing __iter__ method, so pandas accepts body as file-like object\nif not hasattr(body, \"__iter__\"): body.__iter__ = types.MethodType( __iter__, body )\n\nstate_df = pd.read_csv(body)\nstate_df.rename(columns={'code':'STATE_CODE', 'value':'STATE'},inplace=True)\nstate_df.head()\n"
        }, 
        {
            "execution_count": 75, 
            "cell_type": "code", 
            "metadata": {}, 
            "outputs": [
                {
                    "execution_count": 75, 
                    "metadata": {}, 
                    "data": {
                        "text/html": "<div>\n<style scoped>\n    .dataframe tbody tr th:only-of-type {\n        vertical-align: middle;\n    }\n\n    .dataframe tbody tr th {\n        vertical-align: top;\n    }\n\n    .dataframe thead th {\n        text-align: right;\n    }\n</style>\n<table border=\"1\" class=\"dataframe\">\n  <thead>\n    <tr style=\"text-align: right;\">\n      <th></th>\n      <th>ID</th>\n      <th>EFCSTATE</th>\n      <th>1ST_DEG_SEEK_UND</th>\n      <th>EFRES02</th>\n      <th>STATE_CODE</th>\n      <th>STATE</th>\n    </tr>\n  </thead>\n  <tbody>\n    <tr>\n      <th>0</th>\n      <td>100654</td>\n      <td>1</td>\n      <td>667</td>\n      <td>524.0</td>\n      <td>1.0</td>\n      <td>Alabama</td>\n    </tr>\n    <tr>\n      <th>1</th>\n      <td>100654</td>\n      <td>5</td>\n      <td>7</td>\n      <td>6.0</td>\n      <td>5.0</td>\n      <td>Arkansas</td>\n    </tr>\n    <tr>\n      <th>2</th>\n      <td>100654</td>\n      <td>6</td>\n      <td>22</td>\n      <td>16.0</td>\n      <td>6.0</td>\n      <td>California</td>\n    </tr>\n    <tr>\n      <th>3</th>\n      <td>100654</td>\n      <td>8</td>\n      <td>4</td>\n      <td>3.0</td>\n      <td>8.0</td>\n      <td>Colorado</td>\n    </tr>\n    <tr>\n      <th>4</th>\n      <td>100654</td>\n      <td>10</td>\n      <td>1</td>\n      <td>0.0</td>\n      <td>10.0</td>\n      <td>Delaware</td>\n    </tr>\n  </tbody>\n</table>\n</div>", 
                        "text/plain": "       ID  EFCSTATE  1ST_DEG_SEEK_UND  EFRES02   STATE_CODE       STATE\n0  100654         1               667     524.0         1.0     Alabama\n1  100654         5                 7       6.0         5.0    Arkansas\n2  100654         6                22      16.0         6.0  California\n3  100654         8                 4       3.0         8.0    Colorado\n4  100654        10                 1       0.0        10.0    Delaware"
                    }, 
                    "output_type": "execute_result"
                }
            ], 
            "source": "# Merge df1 with state_df\nnew_df1 = df1.merge(state_df, left_on='EFCSTATE', right_on='STATE_CODE', how='left')\nnew_df1.head()"
        }, 
        {
            "execution_count": 62, 
            "cell_type": "code", 
            "metadata": {}, 
            "outputs": [], 
            "source": "new_df1.rename(columns={'EFRES02':'1ST_DEG_SEEK_12MOS'},inplace=True)"
        }, 
        {
            "execution_count": 63, 
            "cell_type": "code", 
            "metadata": {}, 
            "outputs": [
                {
                    "execution_count": 63, 
                    "metadata": {}, 
                    "data": {
                        "text/html": "<div>\n<style scoped>\n    .dataframe tbody tr th:only-of-type {\n        vertical-align: middle;\n    }\n\n    .dataframe tbody tr th {\n        vertical-align: top;\n    }\n\n    .dataframe thead th {\n        text-align: right;\n    }\n</style>\n<table border=\"1\" class=\"dataframe\">\n  <thead>\n    <tr style=\"text-align: right;\">\n      <th></th>\n      <th>ID</th>\n      <th>EFCSTATE</th>\n      <th>1ST_DEG_SEEK_UND</th>\n      <th>EFRES02</th>\n      <th>STATE_CODE</th>\n      <th>STATE</th>\n    </tr>\n  </thead>\n  <tbody>\n    <tr>\n      <th>0</th>\n      <td>100654</td>\n      <td>1</td>\n      <td>667</td>\n      <td>524.0</td>\n      <td>1.0</td>\n      <td>Alabama</td>\n    </tr>\n    <tr>\n      <th>1</th>\n      <td>100654</td>\n      <td>5</td>\n      <td>7</td>\n      <td>6.0</td>\n      <td>5.0</td>\n      <td>Arkansas</td>\n    </tr>\n    <tr>\n      <th>2</th>\n      <td>100654</td>\n      <td>6</td>\n      <td>22</td>\n      <td>16.0</td>\n      <td>6.0</td>\n      <td>California</td>\n    </tr>\n    <tr>\n      <th>3</th>\n      <td>100654</td>\n      <td>8</td>\n      <td>4</td>\n      <td>3.0</td>\n      <td>8.0</td>\n      <td>Colorado</td>\n    </tr>\n    <tr>\n      <th>4</th>\n      <td>100654</td>\n      <td>10</td>\n      <td>1</td>\n      <td>0.0</td>\n      <td>10.0</td>\n      <td>Delaware</td>\n    </tr>\n  </tbody>\n</table>\n</div>", 
                        "text/plain": "       ID  EFCSTATE  1ST_DEG_SEEK_UND  EFRES02   STATE_CODE       STATE\n0  100654         1               667     524.0         1.0     Alabama\n1  100654         5                 7       6.0         5.0    Arkansas\n2  100654         6                22      16.0         6.0  California\n3  100654         8                 4       3.0         8.0    Colorado\n4  100654        10                 1       0.0        10.0    Delaware"
                    }, 
                    "output_type": "execute_result"
                }
            ], 
            "source": "new_df1.head()"
        }, 
        {
            "execution_count": 64, 
            "cell_type": "code", 
            "metadata": {}, 
            "outputs": [
                {
                    "execution_count": 64, 
                    "metadata": {}, 
                    "data": {
                        "text/plain": "(39500, 6)"
                    }, 
                    "output_type": "execute_result"
                }
            ], 
            "source": "new_df1.shape"
        }, 
        {
            "execution_count": 65, 
            "cell_type": "code", 
            "metadata": {}, 
            "outputs": [
                {
                    "execution_count": 65, 
                    "metadata": {}, 
                    "data": {
                        "text/html": "<div>\n<style scoped>\n    .dataframe tbody tr th:only-of-type {\n        vertical-align: middle;\n    }\n\n    .dataframe tbody tr th {\n        vertical-align: top;\n    }\n\n    .dataframe thead th {\n        text-align: right;\n    }\n</style>\n<table border=\"1\" class=\"dataframe\">\n  <thead>\n    <tr style=\"text-align: right;\">\n      <th></th>\n      <th>ID</th>\n      <th>STUDENT_LEVEL</th>\n      <th>ATTEND_STATUS</th>\n      <th>LSTUDY</th>\n      <th>GRAND_TOTAL</th>\n      <th>GRAND_TOTAL_MEN</th>\n      <th>GRAND_TOTAL_WOMEN</th>\n      <th>EFAIANT</th>\n      <th>EFAIANM</th>\n      <th>EFAIANW</th>\n      <th>...</th>\n      <th>EFUNKNM</th>\n      <th>EFUNKNW</th>\n      <th>NONRESIDENT_ALIEN_TOTAL</th>\n      <th>NONRESDIENT_MEN</th>\n      <th>EFNRALW</th>\n      <th>EFCSTATE</th>\n      <th>1ST_DEG_SEEK_UND</th>\n      <th>EFRES02</th>\n      <th>STATE_CODE</th>\n      <th>STATE</th>\n    </tr>\n  </thead>\n  <tbody>\n    <tr>\n      <th>0</th>\n      <td>100654</td>\n      <td>1</td>\n      <td>3</td>\n      <td>4</td>\n      <td>6001</td>\n      <td>2429</td>\n      <td>3572</td>\n      <td>12</td>\n      <td>2</td>\n      <td>10</td>\n      <td>...</td>\n      <td>65</td>\n      <td>124</td>\n      <td>72</td>\n      <td>38</td>\n      <td>34</td>\n      <td>1</td>\n      <td>667</td>\n      <td>524.0</td>\n      <td>1.0</td>\n      <td>Alabama</td>\n    </tr>\n    <tr>\n      <th>1</th>\n      <td>100654</td>\n      <td>1</td>\n      <td>3</td>\n      <td>4</td>\n      <td>6001</td>\n      <td>2429</td>\n      <td>3572</td>\n      <td>12</td>\n      <td>2</td>\n      <td>10</td>\n      <td>...</td>\n      <td>65</td>\n      <td>124</td>\n      <td>72</td>\n      <td>38</td>\n      <td>34</td>\n      <td>5</td>\n      <td>7</td>\n      <td>6.0</td>\n      <td>5.0</td>\n      <td>Arkansas</td>\n    </tr>\n    <tr>\n      <th>2</th>\n      <td>100654</td>\n      <td>1</td>\n      <td>3</td>\n      <td>4</td>\n      <td>6001</td>\n      <td>2429</td>\n      <td>3572</td>\n      <td>12</td>\n      <td>2</td>\n      <td>10</td>\n      <td>...</td>\n      <td>65</td>\n      <td>124</td>\n      <td>72</td>\n      <td>38</td>\n      <td>34</td>\n      <td>6</td>\n      <td>22</td>\n      <td>16.0</td>\n      <td>6.0</td>\n      <td>California</td>\n    </tr>\n    <tr>\n      <th>3</th>\n      <td>100654</td>\n      <td>1</td>\n      <td>3</td>\n      <td>4</td>\n      <td>6001</td>\n      <td>2429</td>\n      <td>3572</td>\n      <td>12</td>\n      <td>2</td>\n      <td>10</td>\n      <td>...</td>\n      <td>65</td>\n      <td>124</td>\n      <td>72</td>\n      <td>38</td>\n      <td>34</td>\n      <td>8</td>\n      <td>4</td>\n      <td>3.0</td>\n      <td>8.0</td>\n      <td>Colorado</td>\n    </tr>\n    <tr>\n      <th>4</th>\n      <td>100654</td>\n      <td>1</td>\n      <td>3</td>\n      <td>4</td>\n      <td>6001</td>\n      <td>2429</td>\n      <td>3572</td>\n      <td>12</td>\n      <td>2</td>\n      <td>10</td>\n      <td>...</td>\n      <td>65</td>\n      <td>124</td>\n      <td>72</td>\n      <td>38</td>\n      <td>34</td>\n      <td>10</td>\n      <td>1</td>\n      <td>0.0</td>\n      <td>10.0</td>\n      <td>Delaware</td>\n    </tr>\n  </tbody>\n</table>\n<p>5 rows \u00d7 39 columns</p>\n</div>", 
                        "text/plain": "       ID  STUDENT_LEVEL  ATTEND_STATUS  LSTUDY  GRAND_TOTAL  GRAND_TOTAL_MEN  \\\n0  100654              1              3       4         6001             2429   \n1  100654              1              3       4         6001             2429   \n2  100654              1              3       4         6001             2429   \n3  100654              1              3       4         6001             2429   \n4  100654              1              3       4         6001             2429   \n\n   GRAND_TOTAL_WOMEN  EFAIANT  EFAIANM  EFAIANW  ...  EFUNKNM  EFUNKNW  \\\n0               3572       12        2       10  ...       65      124   \n1               3572       12        2       10  ...       65      124   \n2               3572       12        2       10  ...       65      124   \n3               3572       12        2       10  ...       65      124   \n4               3572       12        2       10  ...       65      124   \n\n   NONRESIDENT_ALIEN_TOTAL  NONRESDIENT_MEN  EFNRALW   EFCSTATE  \\\n0                       72               38        34         1   \n1                       72               38        34         5   \n2                       72               38        34         6   \n3                       72               38        34         8   \n4                       72               38        34        10   \n\n   1ST_DEG_SEEK_UND  EFRES02   STATE_CODE       STATE  \n0               667     524.0         1.0     Alabama  \n1                 7       6.0         5.0    Arkansas  \n2                22      16.0         6.0  California  \n3                 4       3.0         8.0    Colorado  \n4                 1       0.0        10.0    Delaware  \n\n[5 rows x 39 columns]"
                    }, 
                    "output_type": "execute_result"
                }
            ], 
            "source": "# Merge df1 and df2\ndf_merge = df.merge(new_df1, on='ID')\ndf_merge.head()"
        }, 
        {
            "execution_count": 66, 
            "cell_type": "code", 
            "metadata": {}, 
            "outputs": [
                {
                    "execution_count": 66, 
                    "metadata": {}, 
                    "data": {
                        "text/html": "<div>\n<style scoped>\n    .dataframe tbody tr th:only-of-type {\n        vertical-align: middle;\n    }\n\n    .dataframe tbody tr th {\n        vertical-align: top;\n    }\n\n    .dataframe thead th {\n        text-align: right;\n    }\n</style>\n<table border=\"1\" class=\"dataframe\">\n  <thead>\n    <tr style=\"text-align: right;\">\n      <th></th>\n      <th>ID</th>\n      <th>STUDENT_LEVEL</th>\n      <th>ATTEND_STATUS</th>\n      <th>LSTUDY</th>\n      <th>GRAND_TOTAL</th>\n      <th>GRAND_TOTAL_MEN</th>\n      <th>GRAND_TOTAL_WOMEN</th>\n      <th>EFAIANT</th>\n      <th>EFAIANM</th>\n      <th>EFAIANW</th>\n      <th>...</th>\n      <th>EFUNKNM</th>\n      <th>EFUNKNW</th>\n      <th>NONRESIDENT_ALIEN_TOTAL</th>\n      <th>NONRESDIENT_MEN</th>\n      <th>EFNRALW</th>\n      <th>EFCSTATE</th>\n      <th>1ST_DEG_SEEK_UND</th>\n      <th>EFRES02</th>\n      <th>STATE_CODE</th>\n      <th>STATE</th>\n    </tr>\n  </thead>\n  <tbody>\n    <tr>\n      <th>976087</th>\n      <td>491181</td>\n      <td>59</td>\n      <td>2</td>\n      <td>1</td>\n      <td>33</td>\n      <td>6</td>\n      <td>27</td>\n      <td>0</td>\n      <td>0</td>\n      <td>0</td>\n      <td>...</td>\n      <td>0</td>\n      <td>1</td>\n      <td>0</td>\n      <td>0</td>\n      <td>0</td>\n      <td>99</td>\n      <td>2</td>\n      <td>0.0</td>\n      <td>NaN</td>\n      <td>NaN</td>\n    </tr>\n    <tr>\n      <th>976088</th>\n      <td>491181</td>\n      <td>60</td>\n      <td>2</td>\n      <td>1</td>\n      <td>8</td>\n      <td>2</td>\n      <td>6</td>\n      <td>0</td>\n      <td>0</td>\n      <td>0</td>\n      <td>...</td>\n      <td>0</td>\n      <td>0</td>\n      <td>0</td>\n      <td>0</td>\n      <td>0</td>\n      <td>21</td>\n      <td>1</td>\n      <td>0.0</td>\n      <td>21.0</td>\n      <td>Kentucky</td>\n    </tr>\n    <tr>\n      <th>976089</th>\n      <td>491181</td>\n      <td>60</td>\n      <td>2</td>\n      <td>1</td>\n      <td>8</td>\n      <td>2</td>\n      <td>6</td>\n      <td>0</td>\n      <td>0</td>\n      <td>0</td>\n      <td>...</td>\n      <td>0</td>\n      <td>0</td>\n      <td>0</td>\n      <td>0</td>\n      <td>0</td>\n      <td>54</td>\n      <td>1</td>\n      <td>0.0</td>\n      <td>54.0</td>\n      <td>West Virginia</td>\n    </tr>\n    <tr>\n      <th>976090</th>\n      <td>491181</td>\n      <td>60</td>\n      <td>2</td>\n      <td>1</td>\n      <td>8</td>\n      <td>2</td>\n      <td>6</td>\n      <td>0</td>\n      <td>0</td>\n      <td>0</td>\n      <td>...</td>\n      <td>0</td>\n      <td>0</td>\n      <td>0</td>\n      <td>0</td>\n      <td>0</td>\n      <td>58</td>\n      <td>2</td>\n      <td>0.0</td>\n      <td>NaN</td>\n      <td>NaN</td>\n    </tr>\n    <tr>\n      <th>976091</th>\n      <td>491181</td>\n      <td>60</td>\n      <td>2</td>\n      <td>1</td>\n      <td>8</td>\n      <td>2</td>\n      <td>6</td>\n      <td>0</td>\n      <td>0</td>\n      <td>0</td>\n      <td>...</td>\n      <td>0</td>\n      <td>0</td>\n      <td>0</td>\n      <td>0</td>\n      <td>0</td>\n      <td>99</td>\n      <td>2</td>\n      <td>0.0</td>\n      <td>NaN</td>\n      <td>NaN</td>\n    </tr>\n  </tbody>\n</table>\n<p>5 rows \u00d7 39 columns</p>\n</div>", 
                        "text/plain": "            ID  STUDENT_LEVEL  ATTEND_STATUS  LSTUDY  GRAND_TOTAL  \\\n976087  491181             59              2       1           33   \n976088  491181             60              2       1            8   \n976089  491181             60              2       1            8   \n976090  491181             60              2       1            8   \n976091  491181             60              2       1            8   \n\n        GRAND_TOTAL_MEN  GRAND_TOTAL_WOMEN  EFAIANT  EFAIANM  EFAIANW  ...  \\\n976087                6                 27        0        0        0  ...   \n976088                2                  6        0        0        0  ...   \n976089                2                  6        0        0        0  ...   \n976090                2                  6        0        0        0  ...   \n976091                2                  6        0        0        0  ...   \n\n        EFUNKNM  EFUNKNW  NONRESIDENT_ALIEN_TOTAL  NONRESDIENT_MEN  EFNRALW   \\\n976087        0        1                        0                0         0   \n976088        0        0                        0                0         0   \n976089        0        0                        0                0         0   \n976090        0        0                        0                0         0   \n976091        0        0                        0                0         0   \n\n        EFCSTATE  1ST_DEG_SEEK_UND  EFRES02   STATE_CODE          STATE  \n976087        99                 2       0.0         NaN            NaN  \n976088        21                 1       0.0        21.0       Kentucky  \n976089        54                 1       0.0        54.0  West Virginia  \n976090        58                 2       0.0         NaN            NaN  \n976091        99                 2       0.0         NaN            NaN  \n\n[5 rows x 39 columns]"
                    }, 
                    "output_type": "execute_result"
                }
            ], 
            "source": "df_merge.tail()"
        }, 
        {
            "execution_count": 67, 
            "cell_type": "code", 
            "metadata": {}, 
            "outputs": [
                {
                    "execution_count": 67, 
                    "metadata": {}, 
                    "data": {
                        "text/plain": "(976092, 39)"
                    }, 
                    "output_type": "execute_result"
                }
            ], 
            "source": "# should have 39 features\ndf_merge.shape"
        }, 
        {
            "execution_count": 68, 
            "cell_type": "code", 
            "metadata": {}, 
            "outputs": [
                {
                    "execution_count": 68, 
                    "metadata": {}, 
                    "data": {
                        "text/plain": "True"
                    }, 
                    "output_type": "execute_result"
                }
            ], 
            "source": "#Check for missing values\ndf_merge.isnull().values.any()"
        }, 
        {
            "execution_count": 69, 
            "cell_type": "code", 
            "metadata": {}, 
            "outputs": [
                {
                    "execution_count": 69, 
                    "metadata": {}, 
                    "data": {
                        "text/plain": "224956"
                    }, 
                    "output_type": "execute_result"
                }
            ], 
            "source": "# How many missing values\ndf_merge.isnull().sum().sum()"
        }, 
        {
            "execution_count": 72, 
            "cell_type": "code", 
            "metadata": {}, 
            "outputs": [], 
            "source": "# Separate NaN and examine\nnan_rows = df_merge[df_merge.isnull().T.any().T]"
        }, 
        {
            "execution_count": 73, 
            "cell_type": "code", 
            "metadata": {}, 
            "outputs": [
                {
                    "execution_count": 73, 
                    "metadata": {}, 
                    "data": {
                        "text/plain": "(116721, 39)"
                    }, 
                    "output_type": "execute_result"
                }
            ], 
            "source": "nan_rows.shape"
        }, 
        {
            "execution_count": 74, 
            "cell_type": "code", 
            "metadata": {}, 
            "outputs": [
                {
                    "execution_count": 74, 
                    "metadata": {}, 
                    "data": {
                        "text/plain": "Index(['ID', 'STUDENT_LEVEL', 'ATTEND_STATUS', 'LSTUDY', 'GRAND_TOTAL',\n       'GRAND_TOTAL_MEN', 'GRAND_TOTAL_WOMEN', 'EFAIANT', 'EFAIANM', 'EFAIANW',\n       'EFASIAT', 'EFASIAM', 'EFASIAW', 'EFBKAAT', 'EFBKAAM', 'EFBKAAW',\n       'EFHISPT', 'EFHISPM', 'EFHISPW', 'EFNHPIT', 'EFNHPIM', 'EFNHPIW',\n       'EFWHITT', 'EFWHITM', 'EFWHITW', 'EF2MORT', 'EF2MORM', 'EF2MORW',\n       'EFUNKNT', 'EFUNKNM', 'EFUNKNW', 'NONRESIDENT_ALIEN_TOTAL',\n       'NONRESDIENT_MEN', 'EFNRALW ', 'EFCSTATE', '1ST_DEG_SEEK_UND',\n       'EFRES02 ', 'STATE_CODE', 'STATE'],\n      dtype='object')"
                    }, 
                    "output_type": "execute_result"
                }
            ], 
            "source": "df_merge.columns"
        }, 
        {
            "execution_count": null, 
            "cell_type": "code", 
            "metadata": {}, 
            "outputs": [], 
            "source": ""
        }
    ], 
    "metadata": {
        "kernelspec": {
            "display_name": "Python 3.6", 
            "name": "python3", 
            "language": "python"
        }, 
        "language_info": {
            "mimetype": "text/x-python", 
            "nbconvert_exporter": "python", 
            "version": "3.6.8", 
            "name": "python", 
            "file_extension": ".py", 
            "pygments_lexer": "ipython3", 
            "codemirror_mode": {
                "version": 3, 
                "name": "ipython"
            }
        }
    }, 
    "nbformat": 4
}